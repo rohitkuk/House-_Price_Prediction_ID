{
 "cells": [
  {
   "cell_type": "code",
   "execution_count": 1,
   "metadata": {},
   "outputs": [],
   "source": [
    "\"\"\"\n",
    "ACKNOWLDEMENT:\n",
    "This code is refrenced from the https://maelfabien.github.io/statistics/linreg/#statistical-motivation.\n",
    "For Education Purposes only.\n",
    "\"\"\"\n",
    "# Importing Modules\n",
    "\n",
    "import pandas as pd \n",
    "import numpy as np \n",
    "import matplotlib.pyplot as plt\n",
    "import sklearn.linear_model as lm\n",
    "import math\n",
    "from scipy import stats\n",
    "\n",
    "df = pd.read_csv('https://raw.githubusercontent.com/maelfabien/Machine_Learning_Tutorials/master/2-Statistics/LinearRegression/housing.txt', sep = \" \")\n",
    "\n"
   ]
  },
  {
   "cell_type": "code",
   "execution_count": 2,
   "metadata": {},
   "outputs": [
    {
     "output_type": "execute_result",
     "data": {
      "text/plain": "    year      gdp  house  interests\n0   1990  18873.4  133.3      0.065\n1   1991  18944.0  149.3      0.066\n2   1992  18992.7  144.2      0.064\n3   1993  19077.6  166.4      0.069\n4   1994  20185.9  195.0      0.071\n5   1995  20326.4  229.8      0.070\n6   1996  20434.2  228.7      0.072\n7   1997  20549.2  206.1      0.072\n8   1998  20718.0  257.9      0.074\n9   1999  20918.3  324.1      0.075\n10  2000  21163.9  386.6      0.077\n11  2001  21117.8  423.0      0.079\n12  2002  21633.1  402.3      0.080\n13  2003  21937.7  471.5      0.081\n14  2004  22057.5  421.9      0.081",
      "text/html": "<div>\n<style scoped>\n    .dataframe tbody tr th:only-of-type {\n        vertical-align: middle;\n    }\n\n    .dataframe tbody tr th {\n        vertical-align: top;\n    }\n\n    .dataframe thead th {\n        text-align: right;\n    }\n</style>\n<table border=\"1\" class=\"dataframe\">\n  <thead>\n    <tr style=\"text-align: right;\">\n      <th></th>\n      <th>year</th>\n      <th>gdp</th>\n      <th>house</th>\n      <th>interests</th>\n    </tr>\n  </thead>\n  <tbody>\n    <tr>\n      <th>0</th>\n      <td>1990</td>\n      <td>18873.4</td>\n      <td>133.3</td>\n      <td>0.065</td>\n    </tr>\n    <tr>\n      <th>1</th>\n      <td>1991</td>\n      <td>18944.0</td>\n      <td>149.3</td>\n      <td>0.066</td>\n    </tr>\n    <tr>\n      <th>2</th>\n      <td>1992</td>\n      <td>18992.7</td>\n      <td>144.2</td>\n      <td>0.064</td>\n    </tr>\n    <tr>\n      <th>3</th>\n      <td>1993</td>\n      <td>19077.6</td>\n      <td>166.4</td>\n      <td>0.069</td>\n    </tr>\n    <tr>\n      <th>4</th>\n      <td>1994</td>\n      <td>20185.9</td>\n      <td>195.0</td>\n      <td>0.071</td>\n    </tr>\n    <tr>\n      <th>5</th>\n      <td>1995</td>\n      <td>20326.4</td>\n      <td>229.8</td>\n      <td>0.070</td>\n    </tr>\n    <tr>\n      <th>6</th>\n      <td>1996</td>\n      <td>20434.2</td>\n      <td>228.7</td>\n      <td>0.072</td>\n    </tr>\n    <tr>\n      <th>7</th>\n      <td>1997</td>\n      <td>20549.2</td>\n      <td>206.1</td>\n      <td>0.072</td>\n    </tr>\n    <tr>\n      <th>8</th>\n      <td>1998</td>\n      <td>20718.0</td>\n      <td>257.9</td>\n      <td>0.074</td>\n    </tr>\n    <tr>\n      <th>9</th>\n      <td>1999</td>\n      <td>20918.3</td>\n      <td>324.1</td>\n      <td>0.075</td>\n    </tr>\n    <tr>\n      <th>10</th>\n      <td>2000</td>\n      <td>21163.9</td>\n      <td>386.6</td>\n      <td>0.077</td>\n    </tr>\n    <tr>\n      <th>11</th>\n      <td>2001</td>\n      <td>21117.8</td>\n      <td>423.0</td>\n      <td>0.079</td>\n    </tr>\n    <tr>\n      <th>12</th>\n      <td>2002</td>\n      <td>21633.1</td>\n      <td>402.3</td>\n      <td>0.080</td>\n    </tr>\n    <tr>\n      <th>13</th>\n      <td>2003</td>\n      <td>21937.7</td>\n      <td>471.5</td>\n      <td>0.081</td>\n    </tr>\n    <tr>\n      <th>14</th>\n      <td>2004</td>\n      <td>22057.5</td>\n      <td>421.9</td>\n      <td>0.081</td>\n    </tr>\n  </tbody>\n</table>\n</div>"
     },
     "metadata": {},
     "execution_count": 2
    }
   ],
   "source": [
    "df"
   ]
  },
  {
   "cell_type": "code",
   "execution_count": null,
   "metadata": {},
   "outputs": [],
   "source": []
  }
 ],
 "metadata": {
  "kernelspec": {
   "display_name": "Python 2",
   "language": "python",
   "name": "python2"
  },
  "language_info": {
   "codemirror_mode": {
    "name": "ipython",
    "version": 2
   },
   "file_extension": ".py",
   "mimetype": "text/x-python",
   "name": "python",
   "nbconvert_exporter": "python",
   "pygments_lexer": "ipython2",
   "version": "3.7.1-final"
  }
 },
 "nbformat": 4,
 "nbformat_minor": 2
}